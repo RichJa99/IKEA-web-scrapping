{
 "cells": [
  {
   "cell_type": "code",
   "execution_count": 25,
   "metadata": {},
   "outputs": [],
   "source": [
    "import pandas as pd\n",
    "import re"
   ]
  },
  {
   "cell_type": "markdown",
   "metadata": {},
   "source": [
    "## Import Data"
   ]
  },
  {
   "cell_type": "code",
   "execution_count": 21,
   "metadata": {},
   "outputs": [
    {
     "data": {
      "text/html": [
       "<div>\n",
       "<style scoped>\n",
       "    .dataframe tbody tr th:only-of-type {\n",
       "        vertical-align: middle;\n",
       "    }\n",
       "\n",
       "    .dataframe tbody tr th {\n",
       "        vertical-align: top;\n",
       "    }\n",
       "\n",
       "    .dataframe thead th {\n",
       "        text-align: right;\n",
       "    }\n",
       "</style>\n",
       "<table border=\"1\" class=\"dataframe\">\n",
       "  <thead>\n",
       "    <tr style=\"text-align: right;\">\n",
       "      <th></th>\n",
       "      <th>product_name</th>\n",
       "      <th>product_description</th>\n",
       "      <th>price</th>\n",
       "      <th>sold</th>\n",
       "    </tr>\n",
       "  </thead>\n",
       "  <tbody>\n",
       "    <tr>\n",
       "      <th>0</th>\n",
       "      <td>ADDE</td>\n",
       "      <td>Kursi, putih</td>\n",
       "      <td>Rp 170.000</td>\n",
       "      <td>3460 orang telah membeli produk ini</td>\n",
       "    </tr>\n",
       "    <tr>\n",
       "      <th>1</th>\n",
       "      <td>ADDE</td>\n",
       "      <td>Kursi, hitam</td>\n",
       "      <td>Rp 170.000</td>\n",
       "      <td>2259 orang telah membeli produk ini</td>\n",
       "    </tr>\n",
       "    <tr>\n",
       "      <th>2</th>\n",
       "      <td>ADDE</td>\n",
       "      <td>Kursi, abu-abu/putih</td>\n",
       "      <td>Rp 170.000</td>\n",
       "      <td>1141 orang telah membeli produk ini</td>\n",
       "    </tr>\n",
       "    <tr>\n",
       "      <th>3</th>\n",
       "      <td>ADDE</td>\n",
       "      <td>Kursi, merah/putih</td>\n",
       "      <td>Rp 170.000</td>\n",
       "      <td>424 orang telah membeli produk ini</td>\n",
       "    </tr>\n",
       "    <tr>\n",
       "      <th>4</th>\n",
       "      <td>ÄPPLARÖ</td>\n",
       "      <td>Mj+2kursi dg sndrn lngn+bangku, cokelat/hållö ...</td>\n",
       "      <td>Rp 225.000</td>\n",
       "      <td>No Data</td>\n",
       "    </tr>\n",
       "    <tr>\n",
       "      <th>...</th>\n",
       "      <td>...</td>\n",
       "      <td>...</td>\n",
       "      <td>...</td>\n",
       "      <td>...</td>\n",
       "    </tr>\n",
       "    <tr>\n",
       "      <th>435</th>\n",
       "      <td>ÄPPLARÖ</td>\n",
       "      <td>Meja+4 kursi recliner, l.ruang, diwarnai cokel...</td>\n",
       "      <td>Rp 225.000</td>\n",
       "      <td>1 orang telah membeli produk ini</td>\n",
       "    </tr>\n",
       "    <tr>\n",
       "      <th>436</th>\n",
       "      <td>ÄPPLARÖ</td>\n",
       "      <td>Meja+6 kursi dg sndrn lgn, luar rg, diwarnai c...</td>\n",
       "      <td>Rp 225.000</td>\n",
       "      <td>No Data</td>\n",
       "    </tr>\n",
       "    <tr>\n",
       "      <th>437</th>\n",
       "      <td>ÄPPLARÖ</td>\n",
       "      <td>Bangku dengan sandaran, luar ruang, diwarnai c...</td>\n",
       "      <td>Rp 225.000</td>\n",
       "      <td>64 orang telah membeli produk ini</td>\n",
       "    </tr>\n",
       "    <tr>\n",
       "      <th>438</th>\n",
       "      <td>ÄPPLARÖ</td>\n",
       "      <td>Bangku, luar ruang, dapat dilipat diwarnai cok...</td>\n",
       "      <td>Rp 225.000</td>\n",
       "      <td>138 orang telah membeli produk ini</td>\n",
       "    </tr>\n",
       "    <tr>\n",
       "      <th>439</th>\n",
       "      <td>ÄPPLARÖ</td>\n",
       "      <td>Meja+4 kursi dg sndrn tgn, l rg, diwarnai coke...</td>\n",
       "      <td>Rp 225.000</td>\n",
       "      <td>1 orang telah membeli produk ini</td>\n",
       "    </tr>\n",
       "  </tbody>\n",
       "</table>\n",
       "<p>440 rows × 4 columns</p>\n",
       "</div>"
      ],
      "text/plain": [
       "    product_name                                product_description  \\\n",
       "0           ADDE                                       Kursi, putih   \n",
       "1           ADDE                                       Kursi, hitam   \n",
       "2           ADDE                               Kursi, abu-abu/putih   \n",
       "3           ADDE                                 Kursi, merah/putih   \n",
       "4        ÄPPLARÖ  Mj+2kursi dg sndrn lngn+bangku, cokelat/hållö ...   \n",
       "..           ...                                                ...   \n",
       "435      ÄPPLARÖ  Meja+4 kursi recliner, l.ruang, diwarnai cokel...   \n",
       "436      ÄPPLARÖ  Meja+6 kursi dg sndrn lgn, luar rg, diwarnai c...   \n",
       "437      ÄPPLARÖ  Bangku dengan sandaran, luar ruang, diwarnai c...   \n",
       "438      ÄPPLARÖ  Bangku, luar ruang, dapat dilipat diwarnai cok...   \n",
       "439      ÄPPLARÖ  Meja+4 kursi dg sndrn tgn, l rg, diwarnai coke...   \n",
       "\n",
       "          price                                 sold  \n",
       "0    Rp 170.000  3460 orang telah membeli produk ini  \n",
       "1    Rp 170.000  2259 orang telah membeli produk ini  \n",
       "2    Rp 170.000  1141 orang telah membeli produk ini  \n",
       "3    Rp 170.000   424 orang telah membeli produk ini  \n",
       "4    Rp 225.000                              No Data  \n",
       "..          ...                                  ...  \n",
       "435  Rp 225.000     1 orang telah membeli produk ini  \n",
       "436  Rp 225.000                              No Data  \n",
       "437  Rp 225.000    64 orang telah membeli produk ini  \n",
       "438  Rp 225.000   138 orang telah membeli produk ini  \n",
       "439  Rp 225.000     1 orang telah membeli produk ini  \n",
       "\n",
       "[440 rows x 4 columns]"
      ]
     },
     "execution_count": 21,
     "metadata": {},
     "output_type": "execute_result"
    }
   ],
   "source": [
    "df= pd.read_csv('IKEA_product.csv', index_col=[0])\n",
    "df"
   ]
  },
  {
   "cell_type": "markdown",
   "metadata": {},
   "source": [
    "## Read The Data"
   ]
  },
  {
   "cell_type": "code",
   "execution_count": 22,
   "metadata": {},
   "outputs": [
    {
     "name": "stdout",
     "output_type": "stream",
     "text": [
      "<class 'pandas.core.frame.DataFrame'>\n",
      "Int64Index: 440 entries, 0 to 439\n",
      "Data columns (total 4 columns):\n",
      " #   Column               Non-Null Count  Dtype \n",
      "---  ------               --------------  ----- \n",
      " 0   product_name         440 non-null    object\n",
      " 1   product_description  440 non-null    object\n",
      " 2   price                440 non-null    object\n",
      " 3   sold                 440 non-null    object\n",
      "dtypes: object(4)\n",
      "memory usage: 17.2+ KB\n"
     ]
    }
   ],
   "source": [
    "df.info()"
   ]
  },
  {
   "cell_type": "code",
   "execution_count": 30,
   "metadata": {},
   "outputs": [
    {
     "name": "stdout",
     "output_type": "stream",
     "text": [
      "ÄPPLARÖ    396\n",
      "ADDE        44\n",
      "Name: product_name, dtype: int64\n",
      "Rp 225.000    396\n",
      "Rp 170.000     44\n",
      "Name: price, dtype: int64\n"
     ]
    }
   ],
   "source": [
    "print(df.product_name.value_counts())\n",
    "print(df.price.value_counts())"
   ]
  },
  {
   "cell_type": "code",
   "execution_count": 24,
   "metadata": {},
   "outputs": [
    {
     "data": {
      "text/plain": [
       "product_name           0\n",
       "product_description    0\n",
       "price                  0\n",
       "sold                   0\n",
       "dtype: int64"
      ]
     },
     "execution_count": 24,
     "metadata": {},
     "output_type": "execute_result"
    }
   ],
   "source": [
    "df.isnull().sum()"
   ]
  },
  {
   "cell_type": "markdown",
   "metadata": {},
   "source": [
    "## Data transform"
   ]
  },
  {
   "cell_type": "code",
   "execution_count": 73,
   "metadata": {},
   "outputs": [],
   "source": [
    "new_price= []\n",
    "for i in df['price']:\n",
    "    price= re.findall(r'\\d{3}',i)\n",
    "    newprice= ''.join(price)\n",
    "    new_price.append(newprice)\n",
    "\n",
    "df['price'] = new_price\n",
    "df['price']= df['price'].astype('int')"
   ]
  },
  {
   "cell_type": "code",
   "execution_count": 79,
   "metadata": {},
   "outputs": [],
   "source": [
    "sold_count= []\n",
    "for i in df['sold']:\n",
    "    if i != 'No Data':\n",
    "        newsold= re.split(r'\\s', i)\n",
    "        sold_count.append(newsold[0])\n",
    "    else:\n",
    "        i= 0\n",
    "        sold_count.append(i)\n",
    "\n",
    "df['sold']= sold_count\n",
    "df['sold']= df['sold'].astype('int')"
   ]
  },
  {
   "cell_type": "code",
   "execution_count": 81,
   "metadata": {},
   "outputs": [
    {
     "data": {
      "text/html": [
       "<div>\n",
       "<style scoped>\n",
       "    .dataframe tbody tr th:only-of-type {\n",
       "        vertical-align: middle;\n",
       "    }\n",
       "\n",
       "    .dataframe tbody tr th {\n",
       "        vertical-align: top;\n",
       "    }\n",
       "\n",
       "    .dataframe thead th {\n",
       "        text-align: right;\n",
       "    }\n",
       "</style>\n",
       "<table border=\"1\" class=\"dataframe\">\n",
       "  <thead>\n",
       "    <tr style=\"text-align: right;\">\n",
       "      <th></th>\n",
       "      <th>product_name</th>\n",
       "      <th>product_description</th>\n",
       "      <th>price</th>\n",
       "      <th>sold</th>\n",
       "    </tr>\n",
       "  </thead>\n",
       "  <tbody>\n",
       "    <tr>\n",
       "      <th>0</th>\n",
       "      <td>ADDE</td>\n",
       "      <td>Kursi, putih</td>\n",
       "      <td>170000</td>\n",
       "      <td>3460</td>\n",
       "    </tr>\n",
       "    <tr>\n",
       "      <th>1</th>\n",
       "      <td>ADDE</td>\n",
       "      <td>Kursi, hitam</td>\n",
       "      <td>170000</td>\n",
       "      <td>2259</td>\n",
       "    </tr>\n",
       "    <tr>\n",
       "      <th>2</th>\n",
       "      <td>ADDE</td>\n",
       "      <td>Kursi, abu-abu/putih</td>\n",
       "      <td>170000</td>\n",
       "      <td>1141</td>\n",
       "    </tr>\n",
       "    <tr>\n",
       "      <th>3</th>\n",
       "      <td>ADDE</td>\n",
       "      <td>Kursi, merah/putih</td>\n",
       "      <td>170000</td>\n",
       "      <td>424</td>\n",
       "    </tr>\n",
       "    <tr>\n",
       "      <th>4</th>\n",
       "      <td>ÄPPLARÖ</td>\n",
       "      <td>Mj+2kursi dg sndrn lngn+bangku, cokelat/hållö ...</td>\n",
       "      <td>225000</td>\n",
       "      <td>0</td>\n",
       "    </tr>\n",
       "  </tbody>\n",
       "</table>\n",
       "</div>"
      ],
      "text/plain": [
       "  product_name                                product_description   price  \\\n",
       "0         ADDE                                       Kursi, putih  170000   \n",
       "1         ADDE                                       Kursi, hitam  170000   \n",
       "2         ADDE                               Kursi, abu-abu/putih  170000   \n",
       "3         ADDE                                 Kursi, merah/putih  170000   \n",
       "4      ÄPPLARÖ  Mj+2kursi dg sndrn lngn+bangku, cokelat/hållö ...  225000   \n",
       "\n",
       "   sold  \n",
       "0  3460  \n",
       "1  2259  \n",
       "2  1141  \n",
       "3   424  \n",
       "4     0  "
      ]
     },
     "execution_count": 81,
     "metadata": {},
     "output_type": "execute_result"
    }
   ],
   "source": [
    "df.head()"
   ]
  },
  {
   "cell_type": "code",
   "execution_count": 84,
   "metadata": {},
   "outputs": [],
   "source": [
    "df.to_csv('IKEA_Chair_Product.csv', index= False)"
   ]
  }
 ],
 "metadata": {
  "interpreter": {
   "hash": "002d09ec4a0a7bdd0a19985ef08c844b97af36bd358b0a20fbd9d94a35e89247"
  },
  "kernelspec": {
   "display_name": "Python 3.9.6 64-bit",
   "name": "python3"
  },
  "language_info": {
   "codemirror_mode": {
    "name": "ipython",
    "version": 3
   },
   "file_extension": ".py",
   "mimetype": "text/x-python",
   "name": "python",
   "nbconvert_exporter": "python",
   "pygments_lexer": "ipython3",
   "version": "3.9.6"
  },
  "orig_nbformat": 4
 },
 "nbformat": 4,
 "nbformat_minor": 2
}
